{
 "cells": [
  {
   "cell_type": "code",
   "execution_count": null,
   "id": "e4d5b039",
   "metadata": {},
   "outputs": [],
   "source": []
  },
  {
   "cell_type": "code",
   "execution_count": null,
   "id": "ce144f3d",
   "metadata": {},
   "outputs": [
    {
     "name": "stdout",
     "output_type": "stream",
     "text": [
      "Entrez un numéro entre 1 et 100 : 67\n",
      "Votre choix est incorrect\n"
     ]
    }
   ],
   "source": [
    "Estimation_1 = input('Entrez un numéro entre 1 et 100 : ')# première proposition du chiffre compris entre 1 & 100\n",
    "Estimation_en_entier = int(Estimation_1)#Conversion en entier \n",
    "import random #accès à toutes les fonctions du module random\n",
    "Choix_aleatoire = random.randint(1, 100)#renvoi d'un nombre entier tiré aléatoirement entre 0 inclus et 100 inclus\n",
    "if Choix_aleatoire == Estimation_en_entier:\n",
    " print('Félicitations ! Vous avez deviné le numéro correctement')\n",
    "else:\n",
    " print(\"Votre choix est incorrect\")\n",
    "while Choix_aleatoire != Estimation_en_entier:\n",
    "   Estimation_2= input('Entrez encore une fois un numéro entre 1 et 100 : ')\n",
    "   Estimation_en_entier = int(Estimation_2)\n",
    "if Choix_aleatoire == Estimation_en_entier:\n",
    " print('Félicitations ! Vous avez deviné le numéro correctement')\n",
    "\n",
    "\n",
    "\n",
    "\n",
    "\n",
    "\n",
    "\n",
    "\n"
   ]
  },
  {
   "cell_type": "code",
   "execution_count": null,
   "id": "e9d0d08a",
   "metadata": {},
   "outputs": [],
   "source": [
    "34"
   ]
  },
  {
   "cell_type": "code",
   "execution_count": null,
   "id": "68b4a1ee",
   "metadata": {},
   "outputs": [],
   "source": []
  },
  {
   "cell_type": "code",
   "execution_count": null,
   "id": "dc655a3d",
   "metadata": {},
   "outputs": [],
   "source": []
  },
  {
   "cell_type": "code",
   "execution_count": null,
   "id": "f45b80e0",
   "metadata": {},
   "outputs": [],
   "source": []
  }
 ],
 "metadata": {
  "kernelspec": {
   "display_name": "Python 3 (ipykernel)",
   "language": "python",
   "name": "python3"
  },
  "language_info": {
   "codemirror_mode": {
    "name": "ipython",
    "version": 3
   },
   "file_extension": ".py",
   "mimetype": "text/x-python",
   "name": "python",
   "nbconvert_exporter": "python",
   "pygments_lexer": "ipython3",
   "version": "3.11.5"
  }
 },
 "nbformat": 4,
 "nbformat_minor": 5
}
